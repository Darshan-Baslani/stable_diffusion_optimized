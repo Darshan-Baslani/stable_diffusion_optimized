{
 "cells": [
  {
   "cell_type": "code",
   "execution_count": 1,
   "id": "1b1c6c0a",
   "metadata": {},
   "outputs": [
    {
     "name": "stderr",
     "output_type": "stream",
     "text": [
      "/mnt/Code/optimization/stable-diffusion/.venv/lib/python3.13/site-packages/tqdm/auto.py:21: TqdmWarning: IProgress not found. Please update jupyter and ipywidgets. See https://ipywidgets.readthedocs.io/en/stable/user_install.html\n",
      "  from .autonotebook import tqdm as notebook_tqdm\n",
      "/tmp/ipykernel_43988/3627843626.py:15: UserWarning: 'has_mps' is deprecated, please use 'torch.backends.mps.is_built()'\n",
      "  elif (torch.has_mps or torch.backends.mps.is_available()) and ALLOW_MPS:\n"
     ]
    },
    {
     "name": "stdout",
     "output_type": "stream",
     "text": [
      "Using device: cpu\n",
      "Dropping unexpected encoder key: 13.attention.out_proj.bias\n",
      "Dropping unexpected decoder key: 3.attention.out_proj.bias\n"
     ]
    },
    {
     "ename": "TypeError",
     "evalue": "SwitchSequential.__init__() takes 1 positional argument but 2 were given",
     "output_type": "error",
     "traceback": [
      "\u001b[31m---------------------------------------------------------------------------\u001b[39m",
      "\u001b[31mTypeError\u001b[39m                                 Traceback (most recent call last)",
      "\u001b[36mCell\u001b[39m\u001b[36m \u001b[39m\u001b[32mIn[1]\u001b[39m\u001b[32m, line 21\u001b[39m\n\u001b[32m     19\u001b[39m tokenizer = CLIPTokenizer(\u001b[33m\"\u001b[39m\u001b[33m../data/vocab.json\u001b[39m\u001b[33m\"\u001b[39m, merges_file=\u001b[33m\"\u001b[39m\u001b[33m../data/merges.txt\u001b[39m\u001b[33m\"\u001b[39m)\n\u001b[32m     20\u001b[39m model_file = \u001b[33m\"\u001b[39m\u001b[33m../data/v1-5-pruned-emaonly.ckpt\u001b[39m\u001b[33m\"\u001b[39m\n\u001b[32m---> \u001b[39m\u001b[32m21\u001b[39m models = \u001b[43mmodel_loader\u001b[49m\u001b[43m.\u001b[49m\u001b[43mpreload_models_from_standard_weights\u001b[49m\u001b[43m(\u001b[49m\u001b[43mmodel_file\u001b[49m\u001b[43m,\u001b[49m\u001b[43m \u001b[49m\u001b[43mDEVICE\u001b[49m\u001b[43m)\u001b[49m\n\u001b[32m     23\u001b[39m \u001b[38;5;66;03m## TEXT TO IMAGE\u001b[39;00m\n\u001b[32m     25\u001b[39m prompt = \u001b[33m\"\u001b[39m\u001b[33mA cat stretching on the floor, highly detailed, ultra sharp, cinematic, 100mm lens, 8k resolution.\u001b[39m\u001b[33m\"\u001b[39m\n",
      "\u001b[36mFile \u001b[39m\u001b[32m/mnt/Code/optimization/stable-diffusion/naive/sd/model_loader.py:25\u001b[39m, in \u001b[36mpreload_models_from_standard_weights\u001b[39m\u001b[34m(ckpt_path, device)\u001b[39m\n\u001b[32m     22\u001b[39m         state_dict[\u001b[33m'\u001b[39m\u001b[33mdecoder\u001b[39m\u001b[33m'\u001b[39m].pop(k)\n\u001b[32m     23\u001b[39m decoder.load_state_dict(state_dict[\u001b[33m'\u001b[39m\u001b[33mdecoder\u001b[39m\u001b[33m'\u001b[39m], strict=\u001b[38;5;28;01mTrue\u001b[39;00m)\n\u001b[32m---> \u001b[39m\u001b[32m25\u001b[39m diffusion = \u001b[43mDiffusion\u001b[49m\u001b[43m(\u001b[49m\u001b[43m)\u001b[49m.to(device)\n\u001b[32m     26\u001b[39m \u001b[38;5;28;01mfor\u001b[39;00m k \u001b[38;5;129;01min\u001b[39;00m \u001b[38;5;28mlist\u001b[39m(state_dict[\u001b[33m'\u001b[39m\u001b[33mdiffusion\u001b[39m\u001b[33m'\u001b[39m].keys()):\n\u001b[32m     27\u001b[39m     \u001b[38;5;28;01mif\u001b[39;00m k \u001b[38;5;129;01mnot\u001b[39;00m \u001b[38;5;129;01min\u001b[39;00m diffusion.state_dict():\n",
      "\u001b[36mFile \u001b[39m\u001b[32m/mnt/Code/optimization/stable-diffusion/naive/sd/diffusion.py:266\u001b[39m, in \u001b[36mDiffusion.__init__\u001b[39m\u001b[34m(self)\u001b[39m\n\u001b[32m    264\u001b[39m \u001b[38;5;28;01mdef\u001b[39;00m\u001b[38;5;250m \u001b[39m\u001b[34m__init__\u001b[39m(\u001b[38;5;28mself\u001b[39m):\n\u001b[32m    265\u001b[39m     \u001b[38;5;28mself\u001b[39m.time_embedding = TimeEmbedding(\u001b[32m320\u001b[39m)\n\u001b[32m--> \u001b[39m\u001b[32m266\u001b[39m     \u001b[38;5;28mself\u001b[39m.unet = \u001b[43mUNET\u001b[49m\u001b[43m(\u001b[49m\u001b[43m)\u001b[49m\n\u001b[32m    267\u001b[39m     \u001b[38;5;28mself\u001b[39m.final = UNET_OutputLayer(\u001b[32m320\u001b[39m, \u001b[32m4\u001b[39m)\n",
      "\u001b[36mFile \u001b[39m\u001b[32m/mnt/Code/optimization/stable-diffusion/naive/sd/diffusion.py:210\u001b[39m, in \u001b[36mUNET.__init__\u001b[39m\u001b[34m(self)\u001b[39m\n\u001b[32m    205\u001b[39m \u001b[38;5;28;01mdef\u001b[39;00m\u001b[38;5;250m \u001b[39m\u001b[34m__init__\u001b[39m(\u001b[38;5;28mself\u001b[39m):\n\u001b[32m    206\u001b[39m     \u001b[38;5;28msuper\u001b[39m().\u001b[34m__init__\u001b[39m()\n\u001b[32m    208\u001b[39m     \u001b[38;5;28mself\u001b[39m.encoers = nn.Module([\n\u001b[32m    209\u001b[39m         \u001b[38;5;66;03m# (batch, 4, height/8, width/8) -> (batch, 320, height/8, width/8)\u001b[39;00m\n\u001b[32m--> \u001b[39m\u001b[32m210\u001b[39m         \u001b[43mSwitchSequential\u001b[49m\u001b[43m(\u001b[49m\u001b[43mnn\u001b[49m\u001b[43m.\u001b[49m\u001b[43mConv2d\u001b[49m\u001b[43m(\u001b[49m\u001b[32;43m4\u001b[39;49m\u001b[43m,\u001b[49m\u001b[43m \u001b[49m\u001b[32;43m320\u001b[39;49m\u001b[43m,\u001b[49m\u001b[43m \u001b[49m\u001b[43mkernel_size\u001b[49m\u001b[43m=\u001b[49m\u001b[32;43m3\u001b[39;49m\u001b[43m,\u001b[49m\u001b[43m \u001b[49m\u001b[43mpadding\u001b[49m\u001b[43m=\u001b[49m\u001b[32;43m1\u001b[39;49m\u001b[43m)\u001b[49m\u001b[43m)\u001b[49m,\n\u001b[32m    211\u001b[39m         SwitchSequential(UNET_residualBlock(\u001b[32m320\u001b[39m, \u001b[32m320\u001b[39m), UNET_attentionBlock(\u001b[32m8\u001b[39m, \u001b[32m40\u001b[39m)),\n\u001b[32m    212\u001b[39m         \u001b[38;5;66;03m# (batch, 320, height/8, width/8) -> (batch, 320, height/16, width/16)\u001b[39;00m\n\u001b[32m    213\u001b[39m         SwitchSequential(nn.Conv2d(\u001b[32m320\u001b[39m, \u001b[32m320\u001b[39m, kernel_size=\u001b[32m3\u001b[39m, stride=\u001b[32m2\u001b[39m, padding=\u001b[32m1\u001b[39m)),\n\u001b[32m    214\u001b[39m         \u001b[38;5;66;03m# (batch, 320, height/16, width/16) -> (batch, 640, height/16, width/16)\u001b[39;00m\n\u001b[32m    215\u001b[39m         SwitchSequential(UNET_residualBlock(\u001b[32m320\u001b[39m, \u001b[32m640\u001b[39m), UNET_attentionBlock(\u001b[32m8\u001b[39m, \u001b[32m80\u001b[39m)),\n\u001b[32m    216\u001b[39m         SwitchSequential(UNET_residualBlock(\u001b[32m640\u001b[39m, \u001b[32m640\u001b[39m), UNET_attentionBlock(\u001b[32m8\u001b[39m, \u001b[32m80\u001b[39m)),\n\u001b[32m    217\u001b[39m         \u001b[38;5;66;03m# (batch, 640, height/16, width/16) -> (batch, 640, height/32, width/32)\u001b[39;00m\n\u001b[32m    218\u001b[39m         SwitchSequential(nn.Conv2d(\u001b[32m640\u001b[39m, \u001b[32m640\u001b[39m, kernel_size=\u001b[32m3\u001b[39m, stride=\u001b[32m2\u001b[39m, padding=\u001b[32m1\u001b[39m)),\n\u001b[32m    219\u001b[39m         \u001b[38;5;66;03m# (batch, 640, height/32, width/32) -> (batch, 1280, height/32, width/32)\u001b[39;00m\n\u001b[32m    220\u001b[39m         SwitchSequential(UNET_residualBlock(\u001b[32m640\u001b[39m, \u001b[32m1280\u001b[39m), UNET_attentionBlock(\u001b[32m8\u001b[39m, \u001b[32m160\u001b[39m)),\n\u001b[32m    221\u001b[39m         SwitchSequential(UNET_residualBlock(\u001b[32m1280\u001b[39m, \u001b[32m1280\u001b[39m), UNET_attentionBlock(\u001b[32m8\u001b[39m, \u001b[32m160\u001b[39m)),\n\u001b[32m    222\u001b[39m         \u001b[38;5;66;03m# (batch, 1280, height/32, width/32) -> (batch, 1280, height/64, width/64)\u001b[39;00m\n\u001b[32m    223\u001b[39m         SwitchSequential(nn.Conv2d(\u001b[32m1280\u001b[39m, \u001b[32m1280\u001b[39m, kernel_size=\u001b[32m3\u001b[39m, stride=\u001b[32m2\u001b[39m, padding=\u001b[32m1\u001b[39m)),\n\u001b[32m    224\u001b[39m         SwitchSequential(UNET_residualBlock(\u001b[32m1280\u001b[39m, \u001b[32m1280\u001b[39m)),\n\u001b[32m    225\u001b[39m         SwitchSequential(UNET_residualBlock(\u001b[32m1280\u001b[39m, \u001b[32m1280\u001b[39m))\n\u001b[32m    226\u001b[39m     ])\n\u001b[32m    228\u001b[39m     \u001b[38;5;28mself\u001b[39m.bottleneck = SwitchSequential(\n\u001b[32m    229\u001b[39m         \u001b[38;5;66;03m# (batch, 1280, height/64, width/64)\u001b[39;00m\n\u001b[32m    230\u001b[39m         UNET_residualBlock(\u001b[32m1280\u001b[39m, \u001b[32m1280\u001b[39m), \n\u001b[32m    231\u001b[39m         UNET_attentionBlock(\u001b[32m8\u001b[39m, \u001b[32m160\u001b[39m), \n\u001b[32m    232\u001b[39m         UNET_residualBlock(\u001b[32m1280\u001b[39m, \u001b[32m1280\u001b[39m), \n\u001b[32m    233\u001b[39m     )\n\u001b[32m    235\u001b[39m     \u001b[38;5;28mself\u001b[39m.decoders = nn.ModuleList([\n\u001b[32m    236\u001b[39m         \u001b[38;5;66;03m# (Batch_Size, 2560, Height / 64, Width / 64) -> (Batch_Size, 1280, Height / 64, Width / 64)\u001b[39;00m\n\u001b[32m    237\u001b[39m         SwitchSequential(UNET_residualBlock(\u001b[32m2560\u001b[39m, \u001b[32m1280\u001b[39m)),\n\u001b[32m   (...)\u001b[39m\u001b[32m    259\u001b[39m         SwitchSequential(UNET_residualBlock(\u001b[32m640\u001b[39m, \u001b[32m320\u001b[39m), UNET_attentionBlock(\u001b[32m8\u001b[39m, \u001b[32m40\u001b[39m)),\n\u001b[32m    260\u001b[39m     ])\n",
      "\u001b[36mFile \u001b[39m\u001b[32m/mnt/Code/optimization/stable-diffusion/.venv/lib/python3.13/site-packages/torch/nn/modules/module.py:491\u001b[39m, in \u001b[36mModule.__init__\u001b[39m\u001b[34m(self, *args, **kwargs)\u001b[39m\n\u001b[32m    485\u001b[39m     \u001b[38;5;28;01mraise\u001b[39;00m \u001b[38;5;167;01mTypeError\u001b[39;00m(\n\u001b[32m    486\u001b[39m         \u001b[33mf\u001b[39m\u001b[33m\"\u001b[39m\u001b[38;5;132;01m{\u001b[39;00m\u001b[38;5;28mtype\u001b[39m(\u001b[38;5;28mself\u001b[39m).\u001b[34m__name__\u001b[39m\u001b[38;5;132;01m}\u001b[39;00m\u001b[33m.__init__() got an unexpected keyword argument \u001b[39m\u001b[33m'\u001b[39m\u001b[38;5;132;01m{\u001b[39;00m\u001b[38;5;28mnext\u001b[39m(\u001b[38;5;28miter\u001b[39m(kwargs))\u001b[38;5;132;01m}\u001b[39;00m\u001b[33m'\u001b[39m\u001b[33m\"\u001b[39m\n\u001b[32m    487\u001b[39m         \u001b[33m\"\u001b[39m\u001b[33m\"\u001b[39m\n\u001b[32m    488\u001b[39m     )\n\u001b[32m    490\u001b[39m \u001b[38;5;28;01mif\u001b[39;00m \u001b[38;5;28mself\u001b[39m.call_super_init \u001b[38;5;129;01mis\u001b[39;00m \u001b[38;5;28;01mFalse\u001b[39;00m \u001b[38;5;129;01mand\u001b[39;00m \u001b[38;5;28mbool\u001b[39m(args):\n\u001b[32m--> \u001b[39m\u001b[32m491\u001b[39m     \u001b[38;5;28;01mraise\u001b[39;00m \u001b[38;5;167;01mTypeError\u001b[39;00m(\n\u001b[32m    492\u001b[39m         \u001b[33mf\u001b[39m\u001b[33m\"\u001b[39m\u001b[38;5;132;01m{\u001b[39;00m\u001b[38;5;28mtype\u001b[39m(\u001b[38;5;28mself\u001b[39m).\u001b[34m__name__\u001b[39m\u001b[38;5;132;01m}\u001b[39;00m\u001b[33m.__init__() takes 1 positional argument but \u001b[39m\u001b[38;5;132;01m{\u001b[39;00m\u001b[38;5;28mlen\u001b[39m(args)\u001b[38;5;250m \u001b[39m+\u001b[38;5;250m \u001b[39m\u001b[32m1\u001b[39m\u001b[38;5;132;01m}\u001b[39;00m\u001b[33m were\u001b[39m\u001b[33m\"\u001b[39m\n\u001b[32m    493\u001b[39m         \u001b[33m\"\u001b[39m\u001b[33m given\u001b[39m\u001b[33m\"\u001b[39m\n\u001b[32m    494\u001b[39m     )\n\u001b[32m    496\u001b[39m \u001b[38;5;250m\u001b[39m\u001b[33;03m\"\"\"\u001b[39;00m\n\u001b[32m    497\u001b[39m \u001b[33;03mCalls super().__setattr__('a', a) instead of the typical self.a = a\u001b[39;00m\n\u001b[32m    498\u001b[39m \u001b[33;03mto avoid Module.__setattr__ overhead. Module's __setattr__ has special\u001b[39;00m\n\u001b[32m    499\u001b[39m \u001b[33;03mhandling for parameters, submodules, and buffers but simply calls into\u001b[39;00m\n\u001b[32m    500\u001b[39m \u001b[33;03msuper().__setattr__ for all other attributes.\u001b[39;00m\n\u001b[32m    501\u001b[39m \u001b[33;03m\"\"\"\u001b[39;00m\n\u001b[32m    502\u001b[39m \u001b[38;5;28msuper\u001b[39m().\u001b[34m__setattr__\u001b[39m(\u001b[33m\"\u001b[39m\u001b[33mtraining\u001b[39m\u001b[33m\"\u001b[39m, \u001b[38;5;28;01mTrue\u001b[39;00m)\n",
      "\u001b[31mTypeError\u001b[39m: SwitchSequential.__init__() takes 1 positional argument but 2 were given"
     ]
    }
   ],
   "source": [
    "import model_loader\n",
    "import pipeline\n",
    "from PIL import Image\n",
    "from pathlib import Path\n",
    "from transformers import CLIPTokenizer\n",
    "import torch\n",
    "\n",
    "DEVICE = \"cpu\"\n",
    "\n",
    "ALLOW_CUDA = False\n",
    "ALLOW_MPS = False\n",
    "\n",
    "if torch.cuda.is_available() and ALLOW_CUDA:\n",
    "    DEVICE = \"cuda\"\n",
    "elif (torch.has_mps or torch.backends.mps.is_available()) and ALLOW_MPS:\n",
    "    DEVICE = \"mps\"\n",
    "print(f\"Using device: {DEVICE}\")\n",
    "\n",
    "tokenizer = CLIPTokenizer(\"../data/vocab.json\", merges_file=\"../data/merges.txt\")\n",
    "model_file = \"../data/v1-5-pruned-emaonly.ckpt\"\n",
    "models = model_loader.preload_models_from_standard_weights(model_file, DEVICE)\n",
    "\n",
    "## TEXT TO IMAGE\n",
    "\n",
    "prompt = \"A cat stretching on the floor, highly detailed, ultra sharp, cinematic, 100mm lens, 8k resolution.\"\n",
    "uncond_prompt = \"\" \n",
    "do_cfg = True\n",
    "cfg_scale = 8  # min: 1, max: 14\n",
    "\n",
    "## IMAGE TO IMAGE\n",
    "\n",
    "# input_image = None\n",
    "# # Comment to disable image to image\n",
    "# image_path = \"../images/dog.jpg\"\n",
    "# # input_image = Image.open(image_path)\n",
    "# # Higher values means more noise will be added to the input image, so the result will further from the input image.\n",
    "# # Lower values means less noise is added to the input image, so output will be closer to the input image.\n",
    "# strength = 0.9\n",
    "\n",
    "## SAMPLER\n",
    "\n",
    "sampler = \"ddpm\"\n",
    "num_inference_steps = 50\n",
    "seed = 42\n",
    "\n",
    "output_image = pipeline.generate(\n",
    "    prompt=prompt,\n",
    "    uncond_prompt=uncond_prompt,\n",
    "    # input_image=input_image,\n",
    "    # strength=strength,\n",
    "    do_cfg=do_cfg,\n",
    "    cfg_scale=cfg_scale,\n",
    "    sampler_name=sampler,\n",
    "    n_inference_steps=num_inference_steps,\n",
    "    seed=seed,\n",
    "    models=models,\n",
    "    device=DEVICE,\n",
    "    idle_device=\"cpu\",\n",
    "    tokenizer=tokenizer,\n",
    ")\n",
    "\n",
    "# Combine the input image and the output image into a single image.\n",
    "Image.fromarray(output_image)"
   ]
  }
 ],
 "metadata": {
  "kernelspec": {
   "display_name": ".venv",
   "language": "python",
   "name": "python3"
  },
  "language_info": {
   "codemirror_mode": {
    "name": "ipython",
    "version": 3
   },
   "file_extension": ".py",
   "mimetype": "text/x-python",
   "name": "python",
   "nbconvert_exporter": "python",
   "pygments_lexer": "ipython3",
   "version": "3.13.5"
  }
 },
 "nbformat": 4,
 "nbformat_minor": 5
}
